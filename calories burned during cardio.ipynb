{
 "cells": [
  {
   "cell_type": "code",
   "execution_count": null,
   "metadata": {},
   "outputs": [],
   "source": [
    "''' Women: Calories = ((Age x 0.074) - (Weight x 0.05741) + (Heart Rate x 0.4472) - 20.4022) x Time / 4.184 '''\n",
    "''' Men: Calories = ((Age x 0.2017) + (Weight x 0.09036) + (Heart Rate x 0.6309) - 55.0969) x Time / 4.184 '''\n",
    "\n",
    "''' Type your code here. '''\n",
    "age = int(input())\n",
    "weight = int(input())\n",
    "hr = int(input())\n",
    "time = int(input())\n",
    "\n",
    "women_cal = (((age * 0.074) - (weight * 0.05741) + (hr * 0.4472) - 20.4022) * time / 4.184)\n",
    "men_cal = (((age * 0.2017) + (weight * 0.09036) + (hr * 0.6309) - 55.0969) * time / 4.184)\n",
    "print('Women: {:.2f} calories'.format(women_cal))\n",
    "print('Men: {:.2f} calories'.format(men_cal))"
   ]
  },
  {
   "cell_type": "code",
   "execution_count": null,
   "metadata": {},
   "outputs": [],
   "source": []
  },
  {
   "cell_type": "code",
   "execution_count": null,
   "metadata": {},
   "outputs": [],
   "source": []
  }
 ],
 "metadata": {
  "kernelspec": {
   "display_name": "Python 3",
   "language": "python",
   "name": "python3"
  },
  "language_info": {
   "codemirror_mode": {
    "name": "ipython",
    "version": 3
   },
   "file_extension": ".py",
   "mimetype": "text/x-python",
   "name": "python",
   "nbconvert_exporter": "python",
   "pygments_lexer": "ipython3",
   "version": "3.8.3"
  }
 },
 "nbformat": 4,
 "nbformat_minor": 4
}
