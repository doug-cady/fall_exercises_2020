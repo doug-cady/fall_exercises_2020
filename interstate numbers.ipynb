{
 "cells": [
  {
   "cell_type": "code",
   "execution_count": 3,
   "metadata": {},
   "outputs": [
    {
     "name": "stdout",
     "output_type": "stream",
     "text": [
      "10\n",
      "I-10 is primary, going east/west.\n"
     ]
    }
   ],
   "source": [
    "highway_number = int(input())\n",
    "serving = highway_number % 100\n",
    "\n",
    "if highway_number < 1 or highway_number > 999:\n",
    "    print(highway_number, 'is not a valid interstate highway number.')\n",
    "if highway_number < 100 and highway_number > 0 and (highway_number % 2) == 0:\n",
    "    print('I-{} is primary, going east/west.'.format(highway_number))\n",
    "if highway_number < 100 and highway_number > 0 and (highway_number % 2) != 0:\n",
    "    print('I-{} is primary, going north/south.'.format(highway_number))\n",
    "if highway_number > 99 and highway_number < 1000 and serving % 2 == 0:\n",
    "    print('I-{} is auxiliary, serving I-{}, going east/west.'.format(highway_number, serving))\n",
    "if highway_number > 99 and highway_number < 1000 and serving % 2 != 0:\n",
    "    print('I-{} is auxiliary, serving I-{}, going north/south.'.format(highway_number, serving))\n",
    "\n",
    "\n",
    "#Primary U.S. interstate highways are numbered 1-99. \n",
    "#Odd numbers (like the 5 or 95) go north/south, and evens (like the 10 or 90) go east/west. \n",
    "#Auxiliary highways are numbered 100-999, and service the primary highway indicated by the rightmost two digits. \n",
    "#Thus, I-405 services I-5, and I-290 services I-90."
   ]
  },
  {
   "cell_type": "code",
   "execution_count": 1,
   "metadata": {},
   "outputs": [
    {
     "data": {
      "text/plain": [
       "35"
      ]
     },
     "execution_count": 1,
     "metadata": {},
     "output_type": "execute_result"
    }
   ],
   "source": [
    "35\n"
   ]
  },
  {
   "cell_type": "code",
   "execution_count": null,
   "metadata": {},
   "outputs": [],
   "source": []
  }
 ],
 "metadata": {
  "kernelspec": {
   "display_name": "Python 3",
   "language": "python",
   "name": "python3"
  },
  "language_info": {
   "codemirror_mode": {
    "name": "ipython",
    "version": 3
   },
   "file_extension": ".py",
   "mimetype": "text/x-python",
   "name": "python",
   "nbconvert_exporter": "python",
   "pygments_lexer": "ipython3",
   "version": "3.8.3"
  }
 },
 "nbformat": 4,
 "nbformat_minor": 4
}
