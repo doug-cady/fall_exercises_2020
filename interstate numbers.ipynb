# Ray's solution:
highway_number = int(input())
serving = highway_number % 100

if highway_number < 1 or highway_number > 999:
    print(highway_number, 'is not a valid interstate highway number.')
if highway_number < 100 and highway_number > 0 and (highway_number % 2) == 0:
    print('I-{} is primary, going east/west.'.format(highway_number))
if highway_number < 100 and highway_number > 0 and (highway_number % 2) != 0:
    print('I-{} is primary, going north/south.'.format(highway_number))
if highway_number > 99 and highway_number < 1000 and serving % 2 == 0:
    print('I-{} is auxiliary, serving I-{}, going east/west.'.format(highway_number, serving))
if highway_number > 99 and highway_number < 1000 and serving % 2 != 0:
    print('I-{} is auxiliary, serving I-{}, going north/south.'.format(highway_number, serving))


#Primary U.S. interstate highways are numbered 1-99.
#Odd numbers (like the 5 or 95) go north/south, and evens (like the 10 or 90) go east/west.
#Auxiliary highways are numbered 100-999, and service the primary highway indicated by the rightmost two digits.
#Thus, I-405 services I-5, and I-290 services I-90.


# ----------------------------------------------------------------------------------------------------
# Doug's solution:
# One major difference is a series of if vs if else statements
# In Ray's solution, every if statement will be evaluated even if only
# the first one evaluates to True

# There's a couple new items I used in my solution
# 1. inline if else statement (not strictly necessary, but can be handy for short,
#   simple if else statements)
# 2. f strings - print(f"{my_var}") = print('{}'.format(my_var)), but contain the var names
#   inside the brackets. You write the string like normal and anywhere you
#   have a var or expression you need evaluated you {enclose it in brakets}.

highway_number = int(input())

# inline if else statement
direction = 'east/west' if highway_number % 2 == 0 else 'north/south'

# the above line can also be written like this:
# if highway_number % 2 == 0:
#     direction = 'east/west'
# else:
#     direction = 'north/south'

# combining line 5 into one statement
if 1 <= highway_number <= 99:
    print(f"I-{highway_number} is primary, going {direction}.")

# continuing if else branches
elif 100 <= highway_number <= 999:
    prim_hw = highway_number % 100
    print(f"I-{highway_number} is auxiliary, serving I-{prim_hw}, going {direction}.")
else:
    print(f"{highway_number} is not a valid interstate highway number.")
